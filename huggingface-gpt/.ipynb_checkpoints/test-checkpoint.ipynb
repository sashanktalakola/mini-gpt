{
 "cells": [
  {
   "cell_type": "markdown",
   "id": "0622de46-4aef-419e-a953-d087f3a64fdd",
   "metadata": {},
   "source": [
    "### PyTorch Style"
   ]
  },
  {
   "cell_type": "code",
   "execution_count": 1,
   "id": "a7b0dd23-efce-49b9-b8fd-8b37ccadf190",
   "metadata": {},
   "outputs": [
    {
     "name": "stderr",
     "output_type": "stream",
     "text": [
      "/home/sashank/Desktop/mini-gpt/venv/lib/python3.12/site-packages/tqdm/auto.py:21: TqdmWarning: IProgress not found. Please update jupyter and ipywidgets. See https://ipywidgets.readthedocs.io/en/stable/user_install.html\n",
      "  from .autonotebook import tqdm as notebook_tqdm\n"
     ]
    }
   ],
   "source": [
    "from transformers import GPT2Tokenizer, GPT2Model\n",
    "\n",
    "tokenizer = GPT2Tokenizer.from_pretrained('gpt2-medium')\n",
    "model = GPT2Model.from_pretrained('gpt2-medium')"
   ]
  },
  {
   "cell_type": "code",
   "execution_count": 3,
   "id": "da7c5a5b-da6e-4f83-a186-1a11d2f48b73",
   "metadata": {},
   "outputs": [],
   "source": [
    "text = \"Replace me by any text you'd like.\"\n",
    "\n",
    "tokens = tokenizer(text, return_tensors='pt')\n",
    "output = model(**tokens)"
   ]
  },
  {
   "cell_type": "code",
   "execution_count": null,
   "id": "662a41c8-ae36-42ba-bd1f-5e6bad667aca",
   "metadata": {},
   "outputs": [],
   "source": []
  },
  {
   "cell_type": "markdown",
   "id": "9b50230e-b826-4d19-a4da-96f05f3b7f13",
   "metadata": {},
   "source": [
    "### Generation"
   ]
  },
  {
   "cell_type": "code",
   "execution_count": 25,
   "id": "95b4c7fe-35a9-4aac-a8f7-b91d5fbe9f91",
   "metadata": {},
   "outputs": [],
   "source": [
    "from transformers import pipeline, set_seed\n",
    "\n",
    "generator = pipeline('text-generation', model='gpt2-medium', device=\"cuda\")\n",
    "set_seed(42)"
   ]
  },
  {
   "cell_type": "code",
   "execution_count": 26,
   "id": "5f85fbfa-dafb-49df-ae19-9b70cab062be",
   "metadata": {},
   "outputs": [
    {
     "name": "stderr",
     "output_type": "stream",
     "text": [
      "Setting `pad_token_id` to `eos_token_id`:None for open-end generation.\n"
     ]
    }
   ],
   "source": [
    "input_text = \"Linear Algebra is\"\n",
    "\n",
    "output = generator(input_text, max_length=1000, num_return_sequences=1, truncation=True)"
   ]
  },
  {
   "cell_type": "code",
   "execution_count": 28,
   "id": "733a2434-7610-4cf3-8c7d-95409ae1d6a5",
   "metadata": {},
   "outputs": [
    {
     "name": "stdout",
     "output_type": "stream",
     "text": [
      "Linear Algebra is designed to be simple to use, but can be extended through some specialized algorithms. For example, instead of using linear algebra (using functions, matrices, and linear interpolation) you may be using a transformation such as rotation and scaling.\n",
      "\n",
      "The following figure shows how the various levels of linear algebra are defined. In Linear Algebra, the level of a function is the sum of the factors of the two adjacent variables and the range of variables.\n",
      "\n",
      "The following figure displays the following equation. Linear algebra is also referred to as integral math.\n",
      "\n",
      "A linear equation in the following form is a function where the result of the equation equals the sum of the functions of the two values on the x-axis. For example,, the x-linear equation is, is the x-sin matrix, and,, the x-cos matrix is the x-matrix transform of, and the y-axis is the y-sin matrix. In the example,, can be represented by and, but it is also possible to do with either, or.\n",
      "\n",
      "Linear Algebra is a form of linear trigonometry. Linear algebra is commonly used for both line and line segmentation.\n",
      "\n",
      "The following figure shows the linear transformation to find the solution to a linear equation where is the first variable, is the second variable, and is the difference between. The step-wise search is known as the quadratic method. Linear algebra does not require any kind of boundary condition, and can be used directly to solve nonlinear and differential equations. The following figure provides a graphical illustration of a quadratic formulation of the equation\n",
      "\n",
      "Linear algebra is often used in the definition of the functions of numbers and matrices when they are used in analysis.\n",
      "\n",
      "The following figure shows the linear transformation to find the solution to the exponential expression. Linear algebra is often used in the definition of the function of numbers and matrices when they are used in analysis.\n",
      "\n",
      "Linear geometry is a subtype of linear algebra\n",
      "\n",
      "As mentioned above, the term \"linear geometry\" is somewhat vague. In the following, two sub-methods of linear geometry are illustrated.\n",
      "\n",
      "The method of linear geometry involves determining the solution with a specific geometric algorithm using a set of linear operators and using the result as a result. The method of linear geometry does not involve any level of level function, as are the other two methods for solving linear equations. Instead, one uses the method of linear geometry, as above, to find the solution of a continuous function, and the other uses the method of linear geometry to find the solution of a polynomial. The following figures show the two ways linear geometry is divided into sub-methods. The diagram shows a pair of different examples of the three different methods of linear geometry.\n",
      "\n",
      "A sub-method is a method used to solve complex problems.\n",
      "\n",
      "A step-wise procedure, one that finds the absolute formula over a problem with a specific set of operators and steps by starting with the first operand and ending with the last, is called a step procedure. A simple step procedure consists of one operand, the constant, along with (i,n,d) iterations in which, the x and y scalars of, respectively, are divided by the x vector (n-k),. Finally, one can use the results of a recursive procedure to find an equation for, from these x and y vectors. In this step process, each phase is used once for each step solution.\n",
      "\n",
      "Linear algebra can be written for or linear algebra.\n",
      "\n",
      "A sub-method has two distinct values; one for linear and one for nonlinear operations. This sub-method needs only to represent the basic concepts, e.g., the linear operation and the nonlinear operation, and the only differences between the two are the type of operation used and the type of linear operations that are discussed.\n",
      "\n",
      "In nonlinear areas, linear algebra is one of the most common \"geometry\" in use. Linear algebra is generally used in analysis, but it can be applied to other areas such as 3D geometry. It is popular for many applications such as engineering (the application of linear algebra is often known as engineering analysis), physical data analysis, and even for the study of the behavior of organisms in nature.\n",
      "\n",
      "Linear Algebra is a method of linear algebra. A sub-method also means several different steps or stages such as a quadratic step or polynomial step (a polynomial step occurs at steps 1 and 3). There is also a specific type of algorithm that requires the use of sub-methods because a polynomial-step algorithm requires only one x and y vector and all the steps as a function.\n",
      "\n",
      "Another example of the sub-method is in linear transformation.\n",
      "\n",
      "The linear transformation of vectors is defined as\n"
     ]
    }
   ],
   "source": [
    "print(output[0][\"generated_text\"])"
   ]
  }
 ],
 "metadata": {
  "kernelspec": {
   "display_name": "Python 3 (ipykernel)",
   "language": "python",
   "name": "python3"
  },
  "language_info": {
   "codemirror_mode": {
    "name": "ipython",
    "version": 3
   },
   "file_extension": ".py",
   "mimetype": "text/x-python",
   "name": "python",
   "nbconvert_exporter": "python",
   "pygments_lexer": "ipython3",
   "version": "3.12.3"
  }
 },
 "nbformat": 4,
 "nbformat_minor": 5
}
